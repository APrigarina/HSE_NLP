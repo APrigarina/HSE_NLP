{
  "nbformat": 4,
  "nbformat_minor": 0,
  "metadata": {
    "colab": {
      "name": "NER.ipynb",
      "provenance": [],
      "collapsed_sections": [],
      "toc_visible": true
    },
    "kernelspec": {
      "name": "python3",
      "display_name": "Python 3"
    },
    "language_info": {
      "name": "python"
    }
  },
  "cells": [
    {
      "cell_type": "code",
      "source": [
        "%tensorflow_version 1.x"
      ],
      "metadata": {
        "colab": {
          "base_uri": "https://localhost:8080/"
        },
        "id": "haEbL3KxFuLC",
        "outputId": "952de929-2cda-4d94-9b18-1eba91199728"
      },
      "execution_count": 1,
      "outputs": [
        {
          "output_type": "stream",
          "name": "stdout",
          "text": [
            "TensorFlow 1.x selected.\n"
          ]
        }
      ]
    },
    {
      "cell_type": "code",
      "execution_count": 2,
      "metadata": {
        "id": "DDRVjWXA_C0b"
      },
      "outputs": [],
      "source": [
        "from IPython.core.display import clear_output\n",
        "!pip install sklearn_crfsuite 'scikit-learn<0.24' eli5\n",
        "clear_output()"
      ]
    },
    {
      "cell_type": "code",
      "source": [
        "!gdown --id 1bZv65xa-ybRsIqrtuFfh2ffyJaTPMTzG"
      ],
      "metadata": {
        "colab": {
          "base_uri": "https://localhost:8080/"
        },
        "id": "UP0DXrHe_O_E",
        "outputId": "d2f97e30-dc2a-4a68-9c3d-ea8b1ce6b8f7"
      },
      "execution_count": 3,
      "outputs": [
        {
          "output_type": "stream",
          "name": "stdout",
          "text": [
            "Downloading...\n",
            "From: https://drive.google.com/uc?id=1bZv65xa-ybRsIqrtuFfh2ffyJaTPMTzG\n",
            "To: /content/ner_dataset.zip\n",
            "\r  0% 0.00/188k [00:00<?, ?B/s]\r100% 188k/188k [00:00<00:00, 69.9MB/s]\n"
          ]
        }
      ]
    },
    {
      "cell_type": "code",
      "source": [
        "!unzip ner_dataset.zip"
      ],
      "metadata": {
        "colab": {
          "base_uri": "https://localhost:8080/"
        },
        "id": "zoPoEvqjASVx",
        "outputId": "ab4bb816-2c32-48ab-da2e-f533c881f196"
      },
      "execution_count": 4,
      "outputs": [
        {
          "output_type": "stream",
          "name": "stdout",
          "text": [
            "Archive:  ner_dataset.zip\n",
            "   creating: ner_dataset/\n",
            "  inflating: ner_dataset/data_ann_2000.csv  \n",
            "  inflating: ner_dataset/data_ann_2010.csv  \n"
          ]
        }
      ]
    },
    {
      "cell_type": "code",
      "source": [
        "import pandas as pd\n",
        "%matplotlib inline\n",
        "import matplotlib.pyplot as plt\n",
        "import seaborn as sns\n",
        "\n",
        "from matplotlib import style\n",
        "style.use('seaborn')\n",
        "\n",
        "import numpy as np\n",
        "\n",
        "import nltk\n",
        "from nltk.tokenize import sent_tokenize\n",
        "import eli5\n",
        "import sklearn_crfsuite\n",
        "from sklearn_crfsuite import CRF, scorers, metrics\n",
        "from sklearn_crfsuite.metrics import flat_classification_report\n",
        "\n",
        "import sklearn\n",
        "from sklearn.feature_extraction import DictVectorizer\n",
        "# from sklearn.cross_validation import cross_val_score\n",
        "from sklearn.model_selection import cross_val_predict, train_test_split, RandomizedSearchCV\n",
        "from sklearn.metrics import make_scorer\n",
        "\n",
        "from itertools import chain\n",
        "import scipy.stats\n"
      ],
      "metadata": {
        "colab": {
          "base_uri": "https://localhost:8080/"
        },
        "id": "s2POVTssAWlt",
        "outputId": "4d7e7503-dac1-4859-c27a-36490525d21f"
      },
      "execution_count": 3,
      "outputs": [
        {
          "output_type": "stream",
          "name": "stderr",
          "text": [
            "Using TensorFlow backend.\n"
          ]
        }
      ]
    },
    {
      "cell_type": "markdown",
      "source": [
        "## EDA"
      ],
      "metadata": {
        "id": "i5Us_W-Zq8bA"
      }
    },
    {
      "cell_type": "code",
      "source": [
        "data1 = pd.read_csv(\"ner_dataset/data_ann_2000.csv\")\n",
        "data2 = pd.read_csv(\"ner_dataset/data_ann_2010.csv\")\n",
        "\n",
        "data = pd.concat([data1, data2], ignore_index=True)\n",
        "data.head()"
      ],
      "metadata": {
        "colab": {
          "base_uri": "https://localhost:8080/",
          "height": 206
        },
        "id": "w1U37s0uAcUl",
        "outputId": "f461895f-f1b5-4e29-b3b3-9170d8f39aff"
      },
      "execution_count": 4,
      "outputs": [
        {
          "output_type": "execute_result",
          "data": {
            "text/html": [
              "\n",
              "  <div id=\"df-f233aafe-e35f-40b8-b680-68fa35d56a93\">\n",
              "    <div class=\"colab-df-container\">\n",
              "      <div>\n",
              "<style scoped>\n",
              "    .dataframe tbody tr th:only-of-type {\n",
              "        vertical-align: middle;\n",
              "    }\n",
              "\n",
              "    .dataframe tbody tr th {\n",
              "        vertical-align: top;\n",
              "    }\n",
              "\n",
              "    .dataframe thead th {\n",
              "        text-align: right;\n",
              "    }\n",
              "</style>\n",
              "<table border=\"1\" class=\"dataframe\">\n",
              "  <thead>\n",
              "    <tr style=\"text-align: right;\">\n",
              "      <th></th>\n",
              "      <th>Unnamed: 0</th>\n",
              "      <th>Text</th>\n",
              "      <th>POS</th>\n",
              "      <th>Tag</th>\n",
              "      <th>Abstract</th>\n",
              "    </tr>\n",
              "  </thead>\n",
              "  <tbody>\n",
              "    <tr>\n",
              "      <th>0</th>\n",
              "      <td>0</td>\n",
              "      <td>Centroidal</td>\n",
              "      <td>NN</td>\n",
              "      <td>B-ALGO</td>\n",
              "      <td>0.0</td>\n",
              "    </tr>\n",
              "    <tr>\n",
              "      <th>1</th>\n",
              "      <td>1</td>\n",
              "      <td>Voronoi</td>\n",
              "      <td>NN</td>\n",
              "      <td>I-ALGO</td>\n",
              "      <td>0.0</td>\n",
              "    </tr>\n",
              "    <tr>\n",
              "      <th>2</th>\n",
              "      <td>2</td>\n",
              "      <td>Tesselation</td>\n",
              "      <td>NN</td>\n",
              "      <td>I-ALGO</td>\n",
              "      <td>0.0</td>\n",
              "    </tr>\n",
              "    <tr>\n",
              "      <th>3</th>\n",
              "      <td>3</td>\n",
              "      <td>(</td>\n",
              "      <td>(</td>\n",
              "      <td>O</td>\n",
              "      <td>0.0</td>\n",
              "    </tr>\n",
              "    <tr>\n",
              "      <th>4</th>\n",
              "      <td>4</td>\n",
              "      <td>CVT</td>\n",
              "      <td>NN</td>\n",
              "      <td>B-ALGO</td>\n",
              "      <td>0.0</td>\n",
              "    </tr>\n",
              "  </tbody>\n",
              "</table>\n",
              "</div>\n",
              "      <button class=\"colab-df-convert\" onclick=\"convertToInteractive('df-f233aafe-e35f-40b8-b680-68fa35d56a93')\"\n",
              "              title=\"Convert this dataframe to an interactive table.\"\n",
              "              style=\"display:none;\">\n",
              "        \n",
              "  <svg xmlns=\"http://www.w3.org/2000/svg\" height=\"24px\"viewBox=\"0 0 24 24\"\n",
              "       width=\"24px\">\n",
              "    <path d=\"M0 0h24v24H0V0z\" fill=\"none\"/>\n",
              "    <path d=\"M18.56 5.44l.94 2.06.94-2.06 2.06-.94-2.06-.94-.94-2.06-.94 2.06-2.06.94zm-11 1L8.5 8.5l.94-2.06 2.06-.94-2.06-.94L8.5 2.5l-.94 2.06-2.06.94zm10 10l.94 2.06.94-2.06 2.06-.94-2.06-.94-.94-2.06-.94 2.06-2.06.94z\"/><path d=\"M17.41 7.96l-1.37-1.37c-.4-.4-.92-.59-1.43-.59-.52 0-1.04.2-1.43.59L10.3 9.45l-7.72 7.72c-.78.78-.78 2.05 0 2.83L4 21.41c.39.39.9.59 1.41.59.51 0 1.02-.2 1.41-.59l7.78-7.78 2.81-2.81c.8-.78.8-2.07 0-2.86zM5.41 20L4 18.59l7.72-7.72 1.47 1.35L5.41 20z\"/>\n",
              "  </svg>\n",
              "      </button>\n",
              "      \n",
              "  <style>\n",
              "    .colab-df-container {\n",
              "      display:flex;\n",
              "      flex-wrap:wrap;\n",
              "      gap: 12px;\n",
              "    }\n",
              "\n",
              "    .colab-df-convert {\n",
              "      background-color: #E8F0FE;\n",
              "      border: none;\n",
              "      border-radius: 50%;\n",
              "      cursor: pointer;\n",
              "      display: none;\n",
              "      fill: #1967D2;\n",
              "      height: 32px;\n",
              "      padding: 0 0 0 0;\n",
              "      width: 32px;\n",
              "    }\n",
              "\n",
              "    .colab-df-convert:hover {\n",
              "      background-color: #E2EBFA;\n",
              "      box-shadow: 0px 1px 2px rgba(60, 64, 67, 0.3), 0px 1px 3px 1px rgba(60, 64, 67, 0.15);\n",
              "      fill: #174EA6;\n",
              "    }\n",
              "\n",
              "    [theme=dark] .colab-df-convert {\n",
              "      background-color: #3B4455;\n",
              "      fill: #D2E3FC;\n",
              "    }\n",
              "\n",
              "    [theme=dark] .colab-df-convert:hover {\n",
              "      background-color: #434B5C;\n",
              "      box-shadow: 0px 1px 3px 1px rgba(0, 0, 0, 0.15);\n",
              "      filter: drop-shadow(0px 1px 2px rgba(0, 0, 0, 0.3));\n",
              "      fill: #FFFFFF;\n",
              "    }\n",
              "  </style>\n",
              "\n",
              "      <script>\n",
              "        const buttonEl =\n",
              "          document.querySelector('#df-f233aafe-e35f-40b8-b680-68fa35d56a93 button.colab-df-convert');\n",
              "        buttonEl.style.display =\n",
              "          google.colab.kernel.accessAllowed ? 'block' : 'none';\n",
              "\n",
              "        async function convertToInteractive(key) {\n",
              "          const element = document.querySelector('#df-f233aafe-e35f-40b8-b680-68fa35d56a93');\n",
              "          const dataTable =\n",
              "            await google.colab.kernel.invokeFunction('convertToInteractive',\n",
              "                                                     [key], {});\n",
              "          if (!dataTable) return;\n",
              "\n",
              "          const docLinkHtml = 'Like what you see? Visit the ' +\n",
              "            '<a target=\"_blank\" href=https://colab.research.google.com/notebooks/data_table.ipynb>data table notebook</a>'\n",
              "            + ' to learn more about interactive tables.';\n",
              "          element.innerHTML = '';\n",
              "          dataTable['output_type'] = 'display_data';\n",
              "          await google.colab.output.renderOutput(dataTable, element);\n",
              "          const docLink = document.createElement('div');\n",
              "          docLink.innerHTML = docLinkHtml;\n",
              "          element.appendChild(docLink);\n",
              "        }\n",
              "      </script>\n",
              "    </div>\n",
              "  </div>\n",
              "  "
            ],
            "text/plain": [
              "   Unnamed: 0         Text POS     Tag  Abstract\n",
              "0           0   Centroidal  NN  B-ALGO       0.0\n",
              "1           1      Voronoi  NN  I-ALGO       0.0\n",
              "2           2  Tesselation  NN  I-ALGO       0.0\n",
              "3           3            (   (       O       0.0\n",
              "4           4          CVT  NN  B-ALGO       0.0"
            ]
          },
          "metadata": {},
          "execution_count": 4
        }
      ]
    },
    {
      "cell_type": "code",
      "source": [
        "data.shape"
      ],
      "metadata": {
        "colab": {
          "base_uri": "https://localhost:8080/"
        },
        "id": "dsbCZZuTAkhD",
        "outputId": "2cab848f-01fa-44f2-c792-c0d6d813e636"
      },
      "execution_count": 5,
      "outputs": [
        {
          "output_type": "execute_result",
          "data": {
            "text/plain": [
              "(33394, 5)"
            ]
          },
          "metadata": {},
          "execution_count": 5
        }
      ]
    },
    {
      "cell_type": "code",
      "source": [
        "data.isna().sum()"
      ],
      "metadata": {
        "colab": {
          "base_uri": "https://localhost:8080/"
        },
        "id": "l6vU02WFE5si",
        "outputId": "618521ce-e13b-4f9d-9cda-3bf14dc684d5"
      },
      "execution_count": 6,
      "outputs": [
        {
          "output_type": "execute_result",
          "data": {
            "text/plain": [
              "Unnamed: 0    0\n",
              "Text          1\n",
              "POS           0\n",
              "Tag           0\n",
              "Abstract      0\n",
              "dtype: int64"
            ]
          },
          "metadata": {},
          "execution_count": 6
        }
      ]
    },
    {
      "cell_type": "code",
      "source": [
        "data.dropna(axis=0, inplace=True)\n",
        "data.reset_index(drop=True, inplace=True)"
      ],
      "metadata": {
        "id": "uTv8H4hpFIUq"
      },
      "execution_count": 7,
      "outputs": []
    },
    {
      "cell_type": "code",
      "source": [
        "data.Abstract = data.Abstract.astype('int64')"
      ],
      "metadata": {
        "id": "uNxXrGGNJ4n6"
      },
      "execution_count": 8,
      "outputs": []
    },
    {
      "cell_type": "code",
      "source": [
        "data.Tag.value_counts()"
      ],
      "metadata": {
        "colab": {
          "base_uri": "https://localhost:8080/"
        },
        "id": "0arop9gVFO-w",
        "outputId": "87f5a695-18b1-4dd2-8377-e400e3262eb8"
      },
      "execution_count": 9,
      "outputs": [
        {
          "output_type": "execute_result",
          "data": {
            "text/plain": [
              "O          30556\n",
              "B-FIELD      805\n",
              "I-FIELD      486\n",
              "I-ALGO       355\n",
              "B-ALGO       302\n",
              "B-STAN       198\n",
              "B-PLAT       156\n",
              "B-API        139\n",
              "B-FRAM        96\n",
              "I-PLAT        82\n",
              "B-PL          56\n",
              "I-STAN        50\n",
              "I-API         43\n",
              "I-FRAM        35\n",
              "I-PL          19\n",
              "B-PENT        12\n",
              "I-PENT         3\n",
              "Name: Tag, dtype: int64"
            ]
          },
          "metadata": {},
          "execution_count": 9
        }
      ]
    },
    {
      "cell_type": "markdown",
      "source": [
        "Всего в данных 17 тегов на тему компьютерных наук"
      ],
      "metadata": {
        "id": "g97bNKaprGsq"
      }
    },
    {
      "cell_type": "markdown",
      "source": [
        "\n",
        "\n",
        "*   **PL**: Programming language (C++, Java, Python…)\n",
        "*   **FRAM**: Tool, library or framework (Tensorflow, Microsoft Word, OpenCV…)\n",
        "*   **STAN**: Computer standard (CSV, TXT, compiler…)\n",
        "*   **PLAT**: Plateform (GPU, x86, Cloud Computer…)\n",
        "*   **API**: Classes, event, functions or data structures (graph, init(), print(), object…)\n",
        "*   **PENT**: Physical entity involved in CS field (Google, Microsoft, CNRS…)\n",
        "*   **ALGO**: Algorithms (Dijkstra, KNN, Monte Carlo Search…)\n",
        "*   **FIELD**: Field of application (Machine Learning, Robotic, security…)\n"
      ],
      "metadata": {
        "id": "soJJYuLv0LwR"
      }
    },
    {
      "cell_type": "markdown",
      "source": [
        "Распределены они очень несбалансированно"
      ],
      "metadata": {
        "id": "eVJ_J2XPrTUp"
      }
    },
    {
      "cell_type": "code",
      "source": [
        "plt.figure(figsize=(12,4))\n",
        "data[data.Tag != 'O'].Tag.value_counts().plot(kind='bar')"
      ],
      "metadata": {
        "colab": {
          "base_uri": "https://localhost:8080/",
          "height": 312
        },
        "id": "c84q5OhxFUFV",
        "outputId": "9032b559-4c34-4255-ff84-07d4ce64b83c"
      },
      "execution_count": 10,
      "outputs": [
        {
          "output_type": "execute_result",
          "data": {
            "text/plain": [
              "<matplotlib.axes._subplots.AxesSubplot at 0x7f7b5834eb90>"
            ]
          },
          "metadata": {},
          "execution_count": 10
        },
        {
          "output_type": "display_data",
          "data": {
            "image/png": "[encoded data removed]",
            "text/plain": [
              "<Figure size 864x288 with 1 Axes>"
            ]
          },
          "metadata": {}
        }
      ]
    },
    {
      "cell_type": "code",
      "source": [
        "nltk.download('punkt')"
      ],
      "metadata": {
        "colab": {
          "base_uri": "https://localhost:8080/"
        },
        "id": "-7ONS0P8WW64",
        "outputId": "bae68b45-87da-4054-a635-dde5dcaffc58"
      },
      "execution_count": 11,
      "outputs": [
        {
          "output_type": "stream",
          "name": "stdout",
          "text": [
            "[nltk_data] Downloading package punkt to /root/nltk_data...\n",
            "[nltk_data]   Package punkt is already up-to-date!\n"
          ]
        },
        {
          "output_type": "execute_result",
          "data": {
            "text/plain": [
              "True"
            ]
          },
          "metadata": {},
          "execution_count": 11
        }
      ]
    },
    {
      "cell_type": "markdown",
      "source": [
        "Каждому слову и тегу в соответствие ставится не номер предложения, а номер аннотации из статьи - можно разделить их на предложения"
      ],
      "metadata": {
        "id": "hdJCtNUurYGP"
      }
    },
    {
      "cell_type": "code",
      "source": [
        "abstracts = data.groupby('Abstract')['Text'].apply(lambda x: \" \".join([i for i in x]))\n",
        "abstracts"
      ],
      "metadata": {
        "colab": {
          "base_uri": "https://localhost:8080/"
        },
        "id": "AOaT2uBPFkVb",
        "outputId": "87a4870c-414d-4eb4-fac2-9e6aa68e41d5"
      },
      "execution_count": 12,
      "outputs": [
        {
          "output_type": "execute_result",
          "data": {
            "text/plain": [
              "Abstract\n",
              "0      Centroidal Voronoi Tesselation ( CVT ) of poin...\n",
              "1      A family of Jordan arcs such that two arcs are...\n",
              "2      Control in distributed systems is mainly intro...\n",
              "3      We customize here for the purposes of precompu...\n",
              "4      The work of nurse anaesthetists is carried out...\n",
              "                             ...                        \n",
              "109    Deep Neural Networks have the generic layers a...\n",
              "110    A decision support system is needed by local g...\n",
              "111    Intracranial hemorrhage ( ICH ) is an acute - ...\n",
              "112    This paper presents a muscle gesture - compute...\n",
              "113    The activities of human can be classified into...\n",
              "Name: Text, Length: 114, dtype: object"
            ]
          },
          "metadata": {},
          "execution_count": 12
        }
      ]
    },
    {
      "cell_type": "code",
      "source": [
        "tmp_sent = []\n",
        "for text in abstracts:\n",
        "  tmp_sent += sent_tokenize(text)"
      ],
      "metadata": {
        "id": "bs-ZDyKOXGZj"
      },
      "execution_count": 13,
      "outputs": []
    },
    {
      "cell_type": "code",
      "source": [
        "print(\"Количество предложений:\", len(tmp_sent))"
      ],
      "metadata": {
        "colab": {
          "base_uri": "https://localhost:8080/"
        },
        "id": "34VldGiKeV-e",
        "outputId": "e9e68ce1-c90b-4574-b511-8d7760e1467e"
      },
      "execution_count": 164,
      "outputs": [
        {
          "output_type": "stream",
          "name": "stdout",
          "text": [
            "Количество предложений: 1390\n"
          ]
        }
      ]
    },
    {
      "cell_type": "code",
      "source": [
        "data.shape"
      ],
      "metadata": {
        "colab": {
          "base_uri": "https://localhost:8080/"
        },
        "id": "7uYfbzhnb27A",
        "outputId": "945db025-e61c-4777-f08a-506c011bee62"
      },
      "execution_count": 15,
      "outputs": [
        {
          "output_type": "execute_result",
          "data": {
            "text/plain": [
              "(33393, 5)"
            ]
          },
          "metadata": {},
          "execution_count": 15
        }
      ]
    },
    {
      "cell_type": "code",
      "source": [
        "data['Sentence'] = 0"
      ],
      "metadata": {
        "id": "0ddIJuJNd-3A"
      },
      "execution_count": 16,
      "outputs": []
    },
    {
      "cell_type": "code",
      "source": [
        "count = 0\n",
        "for i, sent in enumerate(tmp_sent):\n",
        "    for j in sent.split():\n",
        "      data.loc[count, 'Sentence'] = i\n",
        "      count+=1"
      ],
      "metadata": {
        "id": "OpnOkatXbgf2"
      },
      "execution_count": 17,
      "outputs": []
    },
    {
      "cell_type": "code",
      "source": [
        "create_group = lambda x: [(w, tag, tok) for w, tag, tok in zip(x.Text, x.POS, x.Tag)]\n",
        "sentences = data.groupby('Sentence')[['Text',\t'POS', 'Tag']].apply(create_group).values\n",
        "sentences[0][:5]"
      ],
      "metadata": {
        "colab": {
          "base_uri": "https://localhost:8080/"
        },
        "id": "CqwyqK9_HxJw",
        "outputId": "c70f2468-137c-45fa-95bc-8cfdefc50155"
      },
      "execution_count": 18,
      "outputs": [
        {
          "output_type": "execute_result",
          "data": {
            "text/plain": [
              "[('Centroidal', 'NN', 'B-ALGO'),\n",
              " ('Voronoi', 'NN', 'I-ALGO'),\n",
              " ('Tesselation', 'NN', 'I-ALGO'),\n",
              " ('(', '(', 'O'),\n",
              " ('CVT', 'NN', 'B-ALGO')]"
            ]
          },
          "metadata": {},
          "execution_count": 18
        }
      ]
    },
    {
      "cell_type": "code",
      "source": [
        "plt.hist([len(s) for s in sentences], bins=50)\n",
        "plt.xlabel('Sentence length')\n",
        "plt.ylabel('Counts')\n",
        "plt.show()"
      ],
      "metadata": {
        "colab": {
          "base_uri": "https://localhost:8080/",
          "height": 361
        },
        "id": "8nT4HRrSJjrq",
        "outputId": "39eb18ca-685f-4017-efa9-56440d2c62bc"
      },
      "execution_count": 19,
      "outputs": [
        {
          "output_type": "display_data",
          "data": {
            "image/png": "[encoded data removed]",
            "text/plain": [
              "<Figure size 576x396 with 1 Axes>"
            ]
          },
          "metadata": {}
        }
      ]
    },
    {
      "cell_type": "markdown",
      "source": [
        "В среднем длина предложения - 20 слов"
      ],
      "metadata": {
        "id": "XOXXlkzfsFOB"
      }
    },
    {
      "cell_type": "markdown",
      "source": [
        "## CRF"
      ],
      "metadata": {
        "id": "Kl-_UAY2ubbD"
      }
    },
    {
      "cell_type": "markdown",
      "source": [
        "### Baseline"
      ],
      "metadata": {
        "id": "ejBqW-n-ujDI"
      }
    },
    {
      "cell_type": "code",
      "source": [
        "train_data, test_data = train_test_split(sentences, test_size=0.2, random_state=42)"
      ],
      "metadata": {
        "id": "AsHUUi4GihrM"
      },
      "execution_count": 138,
      "outputs": []
    },
    {
      "cell_type": "code",
      "source": [
        "train_data = train_data.tolist()\n",
        "test_data = test_data.tolist()\n",
        "\n",
        "print(len(train_data))\n",
        "print(len(test_data))"
      ],
      "metadata": {
        "colab": {
          "base_uri": "https://localhost:8080/"
        },
        "id": "9lUxabukjUg6",
        "outputId": "a44e91d1-4731-4d0f-e91e-9ba5c1e29f46"
      },
      "execution_count": 139,
      "outputs": [
        {
          "output_type": "stream",
          "name": "stdout",
          "text": [
            "1112\n",
            "278\n"
          ]
        }
      ]
    },
    {
      "cell_type": "code",
      "source": [
        "def word2features(sent, i):\n",
        "    word = sent[i][0]\n",
        "    postag = sent[i][1]\n",
        "\n",
        "    features = {\n",
        "        'bias': 1.0,\n",
        "        'word.lower()': word.lower(),\n",
        "        'word[-3:]': word[-3:],\n",
        "        'word.isupper()': word.isupper(),\n",
        "        'word.istitle()': word.istitle(),\n",
        "        'word.isdigit()': word.isdigit(),\n",
        "        'postag': postag,\n",
        "        'postag[:2]': postag[:2],\n",
        "    }\n",
        "    if i > 0:\n",
        "        word1 = sent[i-1][0]\n",
        "        postag1 = sent[i-1][1]\n",
        "        features.update({\n",
        "            '-1:word.lower()': word1.lower(),\n",
        "            '-1:word.istitle()': word1.istitle(),\n",
        "            '-1:word.isupper()': word1.isupper(),\n",
        "            '-1:postag': postag1,\n",
        "            '-1:postag[:2]': postag1[:2],\n",
        "        })\n",
        "    else:\n",
        "        features['BOS'] = True\n",
        "\n",
        "    if i < len(sent)-1:\n",
        "        word1 = sent[i+1][0]\n",
        "        postag1 = sent[i+1][1]\n",
        "        features.update({\n",
        "            '+1:word.lower()': word1.lower(),\n",
        "            '+1:word.istitle()': word1.istitle(),\n",
        "            '+1:word.isupper()': word1.isupper(),\n",
        "            '+1:postag': postag1,\n",
        "            '+1:postag[:2]': postag1[:2],\n",
        "        })\n",
        "    else:\n",
        "        features['EOS'] = True\n",
        "\n",
        "    return features\n",
        "\n",
        "\n",
        "def sent2features(sent):\n",
        "    return [word2features(sent, i) for i in range(len(sent))]\n",
        "\n",
        "def sent2labels(sent):\n",
        "    return [label for token, postag, label in sent]\n",
        "\n",
        "def sent2tokens(sent):\n",
        "    return [token for token, postag, label in sent]\n",
        "\n",
        "X_train = [sent2features(s) for s in train_data]\n",
        "y_train = [sent2labels(s) for s in train_data]\n",
        "\n",
        "X_test = [sent2features(s) for s in test_data]\n",
        "y_test = [sent2labels(s) for s in test_data]"
      ],
      "metadata": {
        "id": "4oIVIupqQYG9"
      },
      "execution_count": 140,
      "outputs": []
    },
    {
      "cell_type": "code",
      "source": [
        "X_train[0][0]"
      ],
      "metadata": {
        "colab": {
          "base_uri": "https://localhost:8080/"
        },
        "id": "lmZpZ-f8j9a1",
        "outputId": "4787d14c-ece9-45dd-ad58-afaa511e26c8"
      },
      "execution_count": 143,
      "outputs": [
        {
          "output_type": "execute_result",
          "data": {
            "text/plain": [
              "{'+1:postag': 'IN',\n",
              " '+1:postag[:2]': 'IN',\n",
              " '+1:word.istitle()': False,\n",
              " '+1:word.isupper()': False,\n",
              " '+1:word.lower()': 'for',\n",
              " 'BOS': True,\n",
              " 'bias': 1.0,\n",
              " 'postag': 'NN',\n",
              " 'postag[:2]': 'NN',\n",
              " 'word.isdigit()': False,\n",
              " 'word.istitle()': False,\n",
              " 'word.isupper()': False,\n",
              " 'word.lower()': 'template',\n",
              " 'word[-3:]': 'ate'}"
            ]
          },
          "metadata": {},
          "execution_count": 143
        }
      ]
    },
    {
      "cell_type": "code",
      "source": [
        "crf = sklearn_crfsuite.CRF(\n",
        "    algorithm='lbfgs',\n",
        "    c1=0.1,\n",
        "    c2=0.1,\n",
        "    max_iterations=100,\n",
        "    all_possible_transitions=False\n",
        ")\n",
        "crf.fit(X_train, y_train)"
      ],
      "metadata": {
        "colab": {
          "base_uri": "https://localhost:8080/"
        },
        "id": "8mXpDLsMkB_P",
        "outputId": "004b5b29-c6c8-44ae-bbd0-a28cb769cb6a"
      },
      "execution_count": 144,
      "outputs": [
        {
          "output_type": "stream",
          "name": "stderr",
          "text": [
            "/usr/local/lib/python3.7/dist-packages/sklearn/base.py:213: FutureWarning: From version 0.24, get_params will raise an AttributeError if a parameter cannot be retrieved as an instance attribute. Previously it would return None.\n",
            "  FutureWarning)\n"
          ]
        },
        {
          "output_type": "execute_result",
          "data": {
            "text/plain": [
              "CRF(algorithm='lbfgs', all_possible_transitions=False, c1=0.1, c2=0.1,\n",
              "    keep_tempfiles=None, max_iterations=100)"
            ]
          },
          "metadata": {},
          "execution_count": 144
        }
      ]
    },
    {
      "cell_type": "markdown",
      "source": [
        "Т.к. большинство тэгов это 'Out', который нас не особо интересует, будем считать скор только по остальным тегам"
      ],
      "metadata": {
        "id": "2VCL5bBWsTui"
      }
    },
    {
      "cell_type": "code",
      "source": [
        "labels = list(crf.classes_)\n",
        "labels.remove('O')\n",
        "labels"
      ],
      "metadata": {
        "colab": {
          "base_uri": "https://localhost:8080/"
        },
        "id": "zAgECOzjkUg0",
        "outputId": "dc0f3354-649f-4ee4-b183-13922d671dc7"
      },
      "execution_count": 145,
      "outputs": [
        {
          "output_type": "execute_result",
          "data": {
            "text/plain": [
              "['B-FIELD',\n",
              " 'I-FIELD',\n",
              " 'I-PLAT',\n",
              " 'B-PLAT',\n",
              " 'B-STAN',\n",
              " 'B-ALGO',\n",
              " 'I-ALGO',\n",
              " 'B-FRAM',\n",
              " 'B-PENT',\n",
              " 'B-PL',\n",
              " 'I-PL',\n",
              " 'B-API',\n",
              " 'I-STAN',\n",
              " 'I-API',\n",
              " 'I-FRAM',\n",
              " 'I-PENT']"
            ]
          },
          "metadata": {},
          "execution_count": 145
        }
      ]
    },
    {
      "cell_type": "code",
      "source": [
        "y_pred = crf.predict(X_test)\n",
        "metrics.flat_f1_score(y_test, y_pred,\n",
        "                      average='weighted', labels=labels)"
      ],
      "metadata": {
        "colab": {
          "base_uri": "https://localhost:8080/"
        },
        "id": "8uRMspCPkXgD",
        "outputId": "a5a7a6d0-8a67-4fd0-82e7-99280ae27161"
      },
      "execution_count": 146,
      "outputs": [
        {
          "output_type": "stream",
          "name": "stderr",
          "text": [
            "/usr/local/lib/python3.7/dist-packages/sklearn/metrics/_classification.py:1465: UndefinedMetricWarning: F-score is ill-defined and being set to 0.0 in labels with no true nor predicted samples. Use `zero_division` parameter to control this behavior.\n",
            "  average, \"true nor predicted\", 'F-score is', len(true_sum)\n"
          ]
        },
        {
          "output_type": "execute_result",
          "data": {
            "text/plain": [
              "0.5372909613717944"
            ]
          },
          "metadata": {},
          "execution_count": 146
        }
      ]
    },
    {
      "cell_type": "code",
      "source": [
        "pred = cross_val_predict(estimator=crf, X=X_train, y=y_train, cv=5)\n",
        "report = flat_classification_report(y_pred=pred, y_true=y_train)\n",
        "print(report)"
      ],
      "metadata": {
        "colab": {
          "base_uri": "https://localhost:8080/"
        },
        "id": "uXNCYjdDkZnO",
        "outputId": "317e19f2-40da-4c09-8841-b2de6ebafbf0"
      },
      "execution_count": 147,
      "outputs": [
        {
          "output_type": "stream",
          "name": "stderr",
          "text": [
            "/usr/local/lib/python3.7/dist-packages/sklearn/base.py:213: FutureWarning: From version 0.24, get_params will raise an AttributeError if a parameter cannot be retrieved as an instance attribute. Previously it would return None.\n",
            "  FutureWarning)\n",
            "<string>:6: VisibleDeprecationWarning: Creating an ndarray from ragged nested sequences (which is a list-or-tuple of lists-or-tuples-or ndarrays with different lengths or shapes) is deprecated. If you meant to do this, you must specify 'dtype=object' when creating the ndarray\n",
            "/usr/local/lib/python3.7/dist-packages/sklearn/utils/validation.py:70: FutureWarning: Pass labels=None as keyword args. From version 0.25 passing these as positional arguments will result in an error\n",
            "  FutureWarning)\n",
            "/usr/local/lib/python3.7/dist-packages/sklearn/metrics/_classification.py:1221: UndefinedMetricWarning: Precision and F-score are ill-defined and being set to 0.0 in labels with no predicted samples. Use `zero_division` parameter to control this behavior.\n",
            "  _warn_prf(average, modifier, msg_start, len(result))\n"
          ]
        },
        {
          "output_type": "stream",
          "name": "stdout",
          "text": [
            "              precision    recall  f1-score   support\n",
            "\n",
            "      B-ALGO       0.73      0.39      0.50       236\n",
            "       B-API       0.59      0.20      0.30       110\n",
            "     B-FIELD       0.74      0.53      0.62       652\n",
            "      B-FRAM       0.82      0.27      0.41        84\n",
            "      B-PENT       1.00      0.17      0.29        12\n",
            "        B-PL       0.67      0.13      0.22        46\n",
            "      B-PLAT       0.67      0.28      0.40       131\n",
            "      B-STAN       0.68      0.28      0.39       152\n",
            "      I-ALGO       0.71      0.42      0.53       286\n",
            "       I-API       0.25      0.03      0.05        34\n",
            "     I-FIELD       0.63      0.47      0.54       362\n",
            "      I-FRAM       0.00      0.00      0.00        32\n",
            "      I-PENT       0.00      0.00      0.00         3\n",
            "        I-PL       0.00      0.00      0.00        17\n",
            "      I-PLAT       0.70      0.32      0.44        66\n",
            "      I-STAN       0.33      0.09      0.14        33\n",
            "           O       0.95      0.99      0.97     24387\n",
            "\n",
            "    accuracy                           0.94     26643\n",
            "   macro avg       0.56      0.27      0.34     26643\n",
            "weighted avg       0.93      0.94      0.93     26643\n",
            "\n"
          ]
        }
      ]
    },
    {
      "cell_type": "code",
      "source": [
        "plt.figure(figsize=(12,8))\n",
        "plt.subplot(2,1,1)\n",
        "data[data.Tag == 'B-PENT'].Text.value_counts()[:10].plot(kind='bar')\n",
        "plt.xlabel('B-PENT')\n",
        "plt.ylabel('Count')\n",
        "plt.tight_layout()\n",
        "plt.subplot(2,1,2)\n",
        "data[data.Tag == 'B-PL'].Text.value_counts()[:10].plot(kind='bar')\n",
        "plt.xlabel('B-PL')\n",
        "plt.ylabel('Count')"
      ],
      "metadata": {
        "colab": {
          "base_uri": "https://localhost:8080/",
          "height": 671
        },
        "id": "xZvj37J207Vz",
        "outputId": "2bf5fd99-877c-4590-c303-4dc2ead44ecb"
      },
      "execution_count": 148,
      "outputs": [
        {
          "output_type": "execute_result",
          "data": {
            "text/plain": [
              "Text(0, 0.5, 'Count')"
            ]
          },
          "metadata": {},
          "execution_count": 148
        },
        {
          "output_type": "display_data",
          "data": {
            "image/png": "[encoded data removed]",
            "text/plain": [
              "<Figure size 864x576 with 2 Axes>"
            ]
          },
          "metadata": {}
        }
      ]
    },
    {
      "cell_type": "markdown",
      "source": [
        "Было предсказуемо, что признаки \"начинается ли слово с заглавной буквы\" и \"содержит ли слово символы только верхнего регистра\" будут мало полезны в этой задаче - большинство исследуемых нами слов начинаются с большой буквы или являются аббревиатурами, но принадлежат разным классам"
      ],
      "metadata": {
        "id": "ceE2bI4q1Wk_"
      }
    },
    {
      "cell_type": "markdown",
      "source": [
        "### Tuning"
      ],
      "metadata": {
        "id": "ZkJHfduOurjQ"
      }
    },
    {
      "cell_type": "markdown",
      "source": [
        "Попробуем использовать словари сущностей, которые предоставляются вместе с датасетом: https://www.kaggle.com/madjakul/computer-science-gazetteers"
      ],
      "metadata": {
        "id": "lD5xlIgMssNW"
      }
    },
    {
      "cell_type": "code",
      "source": [
        "!gdown --id 17c1pxVMcS9ny4UzveM1ig1M67HXbwIUw"
      ],
      "metadata": {
        "colab": {
          "base_uri": "https://localhost:8080/"
        },
        "id": "PWsqTC13sCCT",
        "outputId": "d0eb1672-8f57-488e-ff94-e63af43a3baf"
      },
      "execution_count": 191,
      "outputs": [
        {
          "output_type": "stream",
          "name": "stdout",
          "text": [
            "Downloading...\n",
            "From: https://drive.google.com/uc?id=17c1pxVMcS9ny4UzveM1ig1M67HXbwIUw\n",
            "To: /content/gazetteers.zip\n",
            "\r  0% 0.00/49.5k [00:00<?, ?B/s]\r100% 49.5k/49.5k [00:00<00:00, 50.6MB/s]\n"
          ]
        }
      ]
    },
    {
      "cell_type": "code",
      "source": [
        "!unzip gazetteers.zip"
      ],
      "metadata": {
        "colab": {
          "base_uri": "https://localhost:8080/"
        },
        "id": "uy-mPPy1uSZk",
        "outputId": "f5c3d250-4dd8-450a-c83b-5147a478c04f"
      },
      "execution_count": 192,
      "outputs": [
        {
          "output_type": "stream",
          "name": "stdout",
          "text": [
            "Archive:  gazetteers.zip\n",
            "  inflating: ALGO.txt                \n",
            "  inflating: FIELD.txt               \n",
            "  inflating: FRAM.txt                \n",
            "  inflating: PENT.txt                \n",
            "  inflating: PL.txt                  \n",
            "  inflating: PLAT.txt                \n",
            "  inflating: STAN.txt                \n"
          ]
        }
      ]
    },
    {
      "cell_type": "code",
      "source": [
        "api = data[data.Tag == 'B-API'].Text.unique().tolist() + \\\n",
        "      data[data.Tag == 'I-API'].Text.unique().tolist()"
      ],
      "metadata": {
        "id": "q1H-cbciC-l1"
      },
      "execution_count": 149,
      "outputs": []
    },
    {
      "cell_type": "code",
      "source": [
        "entity_dict = {'ALGO': [], 'FIELD': [], 'FRAM': [], 'PENT': [], 'PL': [], 'PLAT': [], 'STAN': []}\n",
        "for k in entity_dict.keys():\n",
        "  with open('{}.txt'.format(k), 'r') as f:\n",
        "    for line in f:\n",
        "      entity_dict[k].append(line.strip())\n"
      ],
      "metadata": {
        "id": "7Ohzo0rPvUIv"
      },
      "execution_count": 150,
      "outputs": []
    },
    {
      "cell_type": "code",
      "source": [
        "entity_dict['API'] = api"
      ],
      "metadata": {
        "id": "fS90YC_1D54h"
      },
      "execution_count": 151,
      "outputs": []
    },
    {
      "cell_type": "code",
      "source": [
        "def check_entity_in_dict(entity):\n",
        "  for k, v in entity_dict.items():\n",
        "    for w in v:\n",
        "      if entity in w.split():\n",
        "        return k\n",
        "  return 'out'"
      ],
      "metadata": {
        "id": "fnSEpQLLwAtr"
      },
      "execution_count": 152,
      "outputs": []
    },
    {
      "cell_type": "code",
      "source": [
        "def word2features(sent, i):\n",
        "    word = sent[i][0]\n",
        "    postag = sent[i][1]\n",
        "    entity = check_entity_in_dict(word)\n",
        "\n",
        "    features = {\n",
        "        'bias': 1.0,\n",
        "        'word.lower()': word.lower(),\n",
        "        'word[-3:]': word[-3:],\n",
        "        'word.isupper()': word.isupper(),\n",
        "        'word.istitle()': word.istitle(),\n",
        "        'word.isdigit()': word.isdigit(),\n",
        "        'postag': postag,\n",
        "        'postag[:2]': postag[:2],\n",
        "        'entity': entity\n",
        "    }\n",
        "    if i > 0:\n",
        "        word1 = sent[i-1][0]\n",
        "        postag1 = sent[i-1][1]\n",
        "        entity1 = check_entity_in_dict(word1)\n",
        "        features.update({\n",
        "            '-1:word.lower()': word1.lower(),\n",
        "            '-1:word.istitle()': word1.istitle(),\n",
        "            '-1:word.isupper()': word1.isupper(),\n",
        "            '-1:postag': postag1,\n",
        "            '-1:postag[:2]': postag1[:2],\n",
        "            '-1:entity': entity1\n",
        "        })\n",
        "    else:\n",
        "        features['BOS'] = True\n",
        "\n",
        "    if i < len(sent)-1:\n",
        "        word1 = sent[i+1][0]\n",
        "        postag1 = sent[i+1][1]\n",
        "        entity1 = check_entity_in_dict(word1)\n",
        "        features.update({\n",
        "            '+1:word.lower()': word1.lower(),\n",
        "            '+1:word.istitle()': word1.istitle(),\n",
        "            '+1:word.isupper()': word1.isupper(),\n",
        "            '+1:postag': postag1,\n",
        "            '+1:postag[:2]': postag1[:2],\n",
        "            '+1:entity': entity1\n",
        "        })\n",
        "    else:\n",
        "        features['EOS'] = True\n",
        "\n",
        "    return features\n",
        "\n",
        "\n",
        "def sent2features(sent):\n",
        "    return [word2features(sent, i) for i in range(len(sent))]\n",
        "\n",
        "def sent2labels(sent):\n",
        "    return [label for token, postag, label in sent]\n",
        "\n",
        "def sent2tokens(sent):\n",
        "    return [token for token, postag, label in sent]\n",
        "\n",
        "X_train = [sent2features(s) for s in train_data]\n",
        "y_train = [sent2labels(s) for s in train_data]\n",
        "\n",
        "X_test = [sent2features(s) for s in test_data]\n",
        "y_test = [sent2labels(s) for s in test_data]"
      ],
      "metadata": {
        "id": "7PTbkqnZv3tw"
      },
      "execution_count": 153,
      "outputs": []
    },
    {
      "cell_type": "code",
      "source": [
        "X_train[0][0]"
      ],
      "metadata": {
        "colab": {
          "base_uri": "https://localhost:8080/"
        },
        "id": "vsY2mmst7MnS",
        "outputId": "1d353d5d-7fc8-4552-bdf9-e7367493db5c"
      },
      "execution_count": 112,
      "outputs": [
        {
          "output_type": "execute_result",
          "data": {
            "text/plain": [
              "{'+1:entity': 'ALGO',\n",
              " '+1:postag': 'IN',\n",
              " '+1:postag[:2]': 'IN',\n",
              " '+1:word.istitle()': False,\n",
              " '+1:word.isupper()': False,\n",
              " '+1:word.lower()': 'for',\n",
              " 'BOS': True,\n",
              " 'bias': 1.0,\n",
              " 'entity': 'out',\n",
              " 'postag': 'NN',\n",
              " 'postag[:2]': 'NN',\n",
              " 'word.isdigit()': False,\n",
              " 'word.istitle()': False,\n",
              " 'word.isupper()': False,\n",
              " 'word.lower()': 'template',\n",
              " 'word[-3:]': 'ate'}"
            ]
          },
          "metadata": {},
          "execution_count": 112
        }
      ]
    },
    {
      "cell_type": "markdown",
      "source": [
        "Сразу на кросс-валидации попробуем подобрать параметры регуляризации"
      ],
      "metadata": {
        "id": "dPhTI_zktAF4"
      }
    },
    {
      "cell_type": "code",
      "source": [
        "%%time\n",
        "# define fixed parameters and parameters to search\n",
        "crf = sklearn_crfsuite.CRF(\n",
        "    algorithm='lbfgs',\n",
        "    max_iterations=100,\n",
        "    all_possible_transitions=False\n",
        ")\n",
        "params_space = {\n",
        "    'c1': scipy.stats.expon(scale=0.5),\n",
        "    'c2': scipy.stats.expon(scale=0.05),\n",
        "}\n",
        "\n",
        "# use the same metric for evaluation\n",
        "f1_scorer = make_scorer(metrics.flat_f1_score,\n",
        "                        average='weighted', labels=labels)\n",
        "\n",
        "# search\n",
        "rs = RandomizedSearchCV(crf, params_space,\n",
        "                        cv=3,\n",
        "                        verbose=1,\n",
        "                        n_jobs=-1,\n",
        "                        n_iter=50,\n",
        "                        scoring=f1_scorer)\n",
        "rs.fit(X_train, y_train)\n",
        "# Fitting 3 folds for each of 50 ca"
      ],
      "metadata": {
        "colab": {
          "base_uri": "https://localhost:8080/"
        },
        "id": "AKkdKQETJC6b",
        "outputId": "bff6da25-8779-4410-ef6e-b250e79ff7ae"
      },
      "execution_count": 116,
      "outputs": [
        {
          "output_type": "stream",
          "name": "stdout",
          "text": [
            "Fitting 3 folds for each of 50 candidates, totalling 150 fits\n"
          ]
        },
        {
          "output_type": "stream",
          "name": "stderr",
          "text": [
            "/usr/local/lib/python3.7/dist-packages/sklearn/base.py:213: FutureWarning: From version 0.24, get_params will raise an AttributeError if a parameter cannot be retrieved as an instance attribute. Previously it would return None.\n",
            "  FutureWarning)\n",
            "[Parallel(n_jobs=-1)]: Using backend LokyBackend with 2 concurrent workers.\n",
            "[Parallel(n_jobs=-1)]: Done  46 tasks      | elapsed:  5.7min\n",
            "[Parallel(n_jobs=-1)]: Done 150 out of 150 | elapsed: 18.0min finished\n"
          ]
        },
        {
          "output_type": "stream",
          "name": "stdout",
          "text": [
            "CPU times: user 10min 36s, sys: 2.22 s, total: 10min 38s\n",
            "Wall time: 18min 7s\n"
          ]
        }
      ]
    },
    {
      "cell_type": "code",
      "source": [
        "# crf = rs.best_estimator_\n",
        "print('best params:', rs.best_params_)\n",
        "print('best CV score:', rs.best_score_)\n",
        "print('model size: {:0.2f}M'.format(rs.best_estimator_.size_ / 1000000))"
      ],
      "metadata": {
        "colab": {
          "base_uri": "https://localhost:8080/"
        },
        "id": "UMW0Km_FLZZ7",
        "outputId": "c128ed63-45f3-4478-87e8-7c5991277849"
      },
      "execution_count": 117,
      "outputs": [
        {
          "output_type": "stream",
          "name": "stdout",
          "text": [
            "best params: {'c1': 0.04400228058002249, 'c2': 0.005527775458776378}\n",
            "best CV score: 0.5118625724885951\n",
            "model size: 0.37M\n"
          ]
        }
      ]
    },
    {
      "cell_type": "code",
      "source": [
        "crf = sklearn_crfsuite.CRF(\n",
        "    algorithm='lbfgs',\n",
        "    c1=rs.best_params_['c1'],\n",
        "    c2=rs.best_params_['c2'],\n",
        "    max_iterations=100,\n",
        "    all_possible_transitions=False,\n",
        ")\n",
        "crf.fit(X_train, y_train)"
      ],
      "metadata": {
        "colab": {
          "base_uri": "https://localhost:8080/"
        },
        "id": "7jCsbK3QPoGA",
        "outputId": "338eddac-f831-440b-ecbc-9c49d6515667"
      },
      "execution_count": 154,
      "outputs": [
        {
          "output_type": "stream",
          "name": "stderr",
          "text": [
            "/usr/local/lib/python3.7/dist-packages/sklearn/base.py:213: FutureWarning: From version 0.24, get_params will raise an AttributeError if a parameter cannot be retrieved as an instance attribute. Previously it would return None.\n",
            "  FutureWarning)\n"
          ]
        },
        {
          "output_type": "execute_result",
          "data": {
            "text/plain": [
              "CRF(algorithm='lbfgs', all_possible_transitions=False, c1=0.04400228058002249,\n",
              "    c2=0.005527775458776378, keep_tempfiles=None, max_iterations=100)"
            ]
          },
          "metadata": {},
          "execution_count": 154
        }
      ]
    },
    {
      "cell_type": "code",
      "source": [
        "y_pred = crf.predict(X_test)\n",
        "metrics.flat_f1_score(y_test, y_pred,\n",
        "                      average='weighted', labels=labels)"
      ],
      "metadata": {
        "colab": {
          "base_uri": "https://localhost:8080/"
        },
        "id": "DerVK0n1SnqN",
        "outputId": "2fae084a-e262-4dd3-e3d8-da176410373d"
      },
      "execution_count": 155,
      "outputs": [
        {
          "output_type": "stream",
          "name": "stderr",
          "text": [
            "/usr/local/lib/python3.7/dist-packages/sklearn/metrics/_classification.py:1465: UndefinedMetricWarning: F-score is ill-defined and being set to 0.0 in labels with no true nor predicted samples. Use `zero_division` parameter to control this behavior.\n",
            "  average, \"true nor predicted\", 'F-score is', len(true_sum)\n"
          ]
        },
        {
          "output_type": "execute_result",
          "data": {
            "text/plain": [
              "0.5493123875829449"
            ]
          },
          "metadata": {},
          "execution_count": 155
        }
      ]
    },
    {
      "cell_type": "code",
      "source": [
        "pred = cross_val_predict(estimator=crf, X=X_train, y=y_train, cv=5)\n",
        "report = flat_classification_report(y_pred=pred, y_true=y_train)\n",
        "print(report)"
      ],
      "metadata": {
        "colab": {
          "base_uri": "https://localhost:8080/"
        },
        "id": "Xddd9iuYSrdC",
        "outputId": "3032355f-8a0c-4c30-8a4a-1424d0178c6b"
      },
      "execution_count": 156,
      "outputs": [
        {
          "output_type": "stream",
          "name": "stderr",
          "text": [
            "/usr/local/lib/python3.7/dist-packages/sklearn/base.py:213: FutureWarning: From version 0.24, get_params will raise an AttributeError if a parameter cannot be retrieved as an instance attribute. Previously it would return None.\n",
            "  FutureWarning)\n",
            "<string>:6: VisibleDeprecationWarning: Creating an ndarray from ragged nested sequences (which is a list-or-tuple of lists-or-tuples-or ndarrays with different lengths or shapes) is deprecated. If you meant to do this, you must specify 'dtype=object' when creating the ndarray\n",
            "/usr/local/lib/python3.7/dist-packages/sklearn/utils/validation.py:70: FutureWarning: Pass labels=None as keyword args. From version 0.25 passing these as positional arguments will result in an error\n",
            "  FutureWarning)\n",
            "/usr/local/lib/python3.7/dist-packages/sklearn/metrics/_classification.py:1221: UndefinedMetricWarning: Precision and F-score are ill-defined and being set to 0.0 in labels with no predicted samples. Use `zero_division` parameter to control this behavior.\n",
            "  _warn_prf(average, modifier, msg_start, len(result))\n"
          ]
        },
        {
          "output_type": "stream",
          "name": "stdout",
          "text": [
            "              precision    recall  f1-score   support\n",
            "\n",
            "      B-ALGO       0.71      0.42      0.52       236\n",
            "       B-API       0.56      0.30      0.39       110\n",
            "     B-FIELD       0.71      0.59      0.65       652\n",
            "      B-FRAM       0.89      0.39      0.55        84\n",
            "      B-PENT       1.00      0.17      0.29        12\n",
            "        B-PL       0.67      0.26      0.38        46\n",
            "      B-PLAT       0.66      0.39      0.49       131\n",
            "      B-STAN       0.66      0.33      0.44       152\n",
            "      I-ALGO       0.66      0.42      0.52       286\n",
            "       I-API       0.67      0.24      0.35        34\n",
            "     I-FIELD       0.60      0.49      0.54       362\n",
            "      I-FRAM       0.00      0.00      0.00        32\n",
            "      I-PENT       0.00      0.00      0.00         3\n",
            "        I-PL       0.00      0.00      0.00        17\n",
            "      I-PLAT       0.67      0.39      0.50        66\n",
            "      I-STAN       0.36      0.15      0.21        33\n",
            "           O       0.96      0.99      0.97     24387\n",
            "\n",
            "    accuracy                           0.94     26643\n",
            "   macro avg       0.57      0.33      0.40     26643\n",
            "weighted avg       0.93      0.94      0.93     26643\n",
            "\n"
          ]
        }
      ]
    },
    {
      "cell_type": "markdown",
      "source": [
        "Большого улучшения не произошло, но некоторые категории стали распознаваться лучше (например 'B-PENT')"
      ],
      "metadata": {
        "id": "g2dvyfqHtTRF"
      }
    },
    {
      "cell_type": "markdown",
      "source": [
        "Визуализируем результаты алгоритма:"
      ],
      "metadata": {
        "id": "vW1A6z07tlQy"
      }
    },
    {
      "cell_type": "code",
      "source": [
        "!pip install ipymarkup\n",
        "clear_output"
      ],
      "metadata": {
        "id": "NwwtWYfD8kc9"
      },
      "execution_count": null,
      "outputs": []
    },
    {
      "cell_type": "code",
      "source": [
        "from ipymarkup import show_ascii_markup\n",
        "from ipymarkup import show_box_markup"
      ],
      "metadata": {
        "id": "_ApFVhVX76lL"
      },
      "execution_count": 202,
      "outputs": []
    },
    {
      "cell_type": "code",
      "source": [
        "for sent in range(3):\n",
        "  text = \" \".join([x[0] for x in train_data[sent]])\n",
        "  start = 0\n",
        "  spans = []\n",
        "  for i, w in enumerate(train_data[sent]):\n",
        "    end = start+len(w[0])+1\n",
        "    if pred[sent][i] != 'O':\n",
        "      spans.append((start, end, pred[sent][i]))\n",
        "    start=end\n",
        "\n",
        "  show_box_markup(text, spans)"
      ],
      "metadata": {
        "colab": {
          "base_uri": "https://localhost:8080/",
          "height": 87
        },
        "id": "YxeCrxWg81U4",
        "outputId": "942b2c21-6ab5-4db5-b6f6-2a847b448d8e"
      },
      "execution_count": 213,
      "outputs": [
        {
          "output_type": "display_data",
          "data": {
            "text/html": [
              "<div class=\"tex2jax_ignore\" style=\"white-space: pre-wrap\">template for scheduling Parameter Sweep applications ( application consisting of \\\\em large number of independent tasks with possible <span style=\"padding: 2px; border-radius: 4px; border: 1px solid #bbdefb; background: #e3f2fd\">input <span style=\"vertical-align: middle; margin-left: 2px; font-size: 0.7em; color: #64b5f6;\">B-FIELD</span></span><span style=\"padding: 2px; border-radius: 4px; border: 1px solid #c8e6c9; background: #e8f5e9\">data <span style=\"vertical-align: middle; margin-left: 2px; font-size: 0.7em; color: #66bb6a;\">I-FIELD</span></span><span style=\"padding: 2px; border-radius: 4px; border: 1px solid #c8e6c9; background: #e8f5e9\">sharing <span style=\"vertical-align: middle; margin-left: 2px; font-size: 0.7em; color: #66bb6a;\">I-FIELD</span></span>) .</div>"
            ],
            "text/plain": [
              "<IPython.core.display.HTML object>"
            ]
          },
          "metadata": {}
        },
        {
          "output_type": "display_data",
          "data": {
            "text/html": [
              "<div class=\"tex2jax_ignore\" style=\"white-space: pre-wrap\">The relevance of the <span style=\"padding: 2px; border-radius: 4px; border: 1px solid #bbdefb; background: #e3f2fd\">quantum <span style=\"vertical-align: middle; margin-left: 2px; font-size: 0.7em; color: #64b5f6;\">B-FIELD</span></span><span style=\"padding: 2px; border-radius: 4px; border: 1px solid #c8e6c9; background: #e8f5e9\">information <span style=\"vertical-align: middle; margin-left: 2px; font-size: 0.7em; color: #66bb6a;\">I-FIELD</span></span><span style=\"padding: 2px; border-radius: 4px; border: 1px solid #c8e6c9; background: #e8f5e9\">processing <span style=\"vertical-align: middle; margin-left: 2px; font-size: 0.7em; color: #66bb6a;\">I-FIELD</span></span>by open quantum system to real work of the brain is discussed .</div>"
            ],
            "text/plain": [
              "<IPython.core.display.HTML object>"
            ]
          },
          "metadata": {}
        },
        {
          "output_type": "display_data",
          "data": {
            "text/html": [
              "<div class=\"tex2jax_ignore\" style=\"white-space: pre-wrap\">- <span style=\"padding: 2px; border-radius: 4px; border: 1px solid #ffcdd2; background: #ffebee\">node <span style=\"vertical-align: middle; margin-left: 2px; font-size: 0.7em; color: #e57373;\">B-API</span></span><span style=\"padding: 2px; border-radius: 4px; border: 1px solid #ffe0b2; background: #fff3e0\">cluster <span style=\"vertical-align: middle; margin-left: 2px; font-size: 0.7em; color: #ffb74d;\">I-API</span></span>has proved to be more efficient <span style=\"padding: 2px; border-radius: 4px; border: 1px solid #ffcdd2; background: #ffebee\">in <span style=\"vertical-align: middle; margin-left: 2px; font-size: 0.7em; color: #e57373;\">B-API</span></span>terms of cost maintenance and fault tolerance in comparison with single</div>"
            ],
            "text/plain": [
              "<IPython.core.display.HTML object>"
            ]
          },
          "metadata": {}
        }
      ]
    },
    {
      "cell_type": "markdown",
      "source": [
        "В целом неплохо справляется, иногда путая обычные слова с API и находя не все сущности"
      ],
      "metadata": {
        "id": "HnFv0uMMtrks"
      }
    },
    {
      "cell_type": "markdown",
      "source": [
        "## Neural Networks"
      ],
      "metadata": {
        "id": "B-KK4HAzCBxm"
      }
    },
    {
      "cell_type": "markdown",
      "source": [
        "## LSTM"
      ],
      "metadata": {
        "id": "yFVyFMxJvUYN"
      }
    },
    {
      "cell_type": "markdown",
      "source": [
        "Будем строить Bi-LSTM"
      ],
      "metadata": {
        "id": "3eDdOlCAuFyX"
      }
    },
    {
      "cell_type": "code",
      "source": [
        "import numpy as np\n",
        "import pandas as pd\n",
        "import keras\n",
        "\n",
        "from subprocess import check_output\n",
        "\n",
        "from future.utils import iteritems\n",
        "from keras.preprocessing.sequence import pad_sequences\n",
        "from tensorflow.keras.utils import to_categorical\n",
        "from sklearn.model_selection import train_test_split\n",
        "from keras.models import Model, Input\n",
        "from keras.layers import LSTM, Embedding, Dense, TimeDistributed, Dropout, Bidirectional\n",
        "\n",
        "from sklearn.metrics import classification_report\n",
        "from sklearn.metrics import f1_score\n",
        "\n",
        "clear_output()"
      ],
      "metadata": {
        "id": "YzvoS-FntdcQ"
      },
      "execution_count": 20,
      "outputs": []
    },
    {
      "cell_type": "code",
      "source": [
        "data.Tag.value_counts()"
      ],
      "metadata": {
        "colab": {
          "base_uri": "https://localhost:8080/"
        },
        "id": "juNu-CXkUbEC",
        "outputId": "88a60c3c-9373-4ca7-d01c-19763a2c61d0"
      },
      "execution_count": 21,
      "outputs": [
        {
          "output_type": "execute_result",
          "data": {
            "text/plain": [
              "O          30556\n",
              "B-FIELD      805\n",
              "I-FIELD      486\n",
              "I-ALGO       355\n",
              "B-ALGO       302\n",
              "B-STAN       198\n",
              "B-PLAT       156\n",
              "B-API        139\n",
              "B-FRAM        96\n",
              "I-PLAT        82\n",
              "B-PL          56\n",
              "I-STAN        50\n",
              "I-API         43\n",
              "I-FRAM        35\n",
              "I-PL          19\n",
              "B-PENT        12\n",
              "I-PENT         3\n",
              "Name: Tag, dtype: int64"
            ]
          },
          "metadata": {},
          "execution_count": 21
        }
      ]
    },
    {
      "cell_type": "markdown",
      "source": [
        "Хотелось разбить данные на стратифицированные обучающую и тестовую выборку, но объектов сущности PENT для этого слишком мало <br>"
      ],
      "metadata": {
        "id": "_VAMgQoXuWnu"
      }
    },
    {
      "cell_type": "code",
      "source": [
        "data = data[data.Tag != 'B-PENT']\n",
        "data = data[data.Tag != 'I-PENT']"
      ],
      "metadata": {
        "id": "VQ3zP_-PUfzI"
      },
      "execution_count": 22,
      "outputs": []
    },
    {
      "cell_type": "code",
      "source": [
        "create_group = lambda x: [(w, tok) for w, tok in zip(x.Text, x.Tag)]\n",
        "sentences = data.groupby('Sentence')[['Text',\t'Tag']].apply(create_group).values\n",
        "sentences[0][:5]"
      ],
      "metadata": {
        "colab": {
          "base_uri": "https://localhost:8080/"
        },
        "id": "UYvIkodhCnDT",
        "outputId": "bae2f7ea-8a44-46c0-dace-a207b4b3df69"
      },
      "execution_count": 24,
      "outputs": [
        {
          "output_type": "execute_result",
          "data": {
            "text/plain": [
              "[('Centroidal', 'B-ALGO'),\n",
              " ('Voronoi', 'I-ALGO'),\n",
              " ('Tesselation', 'I-ALGO'),\n",
              " ('(', 'O'),\n",
              " ('CVT', 'B-ALGO')]"
            ]
          },
          "metadata": {},
          "execution_count": 24
        }
      ]
    },
    {
      "cell_type": "code",
      "source": [
        "maxlen = max([len(s) for s in sentences])\n",
        "print('Maximum sequence length:', maxlen)"
      ],
      "metadata": {
        "colab": {
          "base_uri": "https://localhost:8080/"
        },
        "id": "5RnQ-gyyDHXL",
        "outputId": "c0a5952d-7694-4bfe-a8d8-dd697d24828c"
      },
      "execution_count": 25,
      "outputs": [
        {
          "output_type": "stream",
          "name": "stdout",
          "text": [
            "Maximum sequence length: 73\n"
          ]
        }
      ]
    },
    {
      "cell_type": "code",
      "source": [
        "words = list(set(data[\"Text\"].values))\n",
        "words.append(\"ENDPAD\")"
      ],
      "metadata": {
        "id": "53m1zLQuCJo0"
      },
      "execution_count": 26,
      "outputs": []
    },
    {
      "cell_type": "code",
      "source": [
        "n_words = len(words)\n",
        "n_words"
      ],
      "metadata": {
        "colab": {
          "base_uri": "https://localhost:8080/"
        },
        "id": "CQAM7EMGsaZD",
        "outputId": "f1c4e50b-5402-4ff4-df1f-fd9e299a033a"
      },
      "execution_count": 27,
      "outputs": [
        {
          "output_type": "execute_result",
          "data": {
            "text/plain": [
              "5631"
            ]
          },
          "metadata": {},
          "execution_count": 27
        }
      ]
    },
    {
      "cell_type": "code",
      "source": [
        "tags = list(set(data[\"Tag\"].values))\n",
        "n_tags = len(tags)\n",
        "n_tags"
      ],
      "metadata": {
        "colab": {
          "base_uri": "https://localhost:8080/"
        },
        "id": "eIw6AkLLC5HI",
        "outputId": "2cd498ea-11ca-498d-c9aa-31dbd1e16616"
      },
      "execution_count": 28,
      "outputs": [
        {
          "output_type": "execute_result",
          "data": {
            "text/plain": [
              "15"
            ]
          },
          "metadata": {},
          "execution_count": 28
        }
      ]
    },
    {
      "cell_type": "code",
      "source": [
        "word2idx = {w: i for i, w in enumerate(words)}\n",
        "tag2idx = {t: i for i, t in enumerate(tags)}\n",
        "idx2tag = {v: k for k, v in iteritems(tag2idx)}"
      ],
      "metadata": {
        "id": "achOV0UrDBcg"
      },
      "execution_count": 29,
      "outputs": []
    },
    {
      "cell_type": "code",
      "source": [
        "X_idx = [[word2idx[w[0]] for w in s] for s in sentences]\n",
        "X = pad_sequences(maxlen=maxlen, sequences=X_idx, padding=\"post\",value=n_words - 1)\n",
        "\n",
        "y_idx = [[tag2idx[w[1]] for w in s] for s in sentences]\n",
        "y = pad_sequences(maxlen=maxlen, sequences=y_idx, padding=\"post\", value=tag2idx[\"O\"])"
      ],
      "metadata": {
        "id": "WWKPZIRdDMYy"
      },
      "execution_count": 30,
      "outputs": []
    },
    {
      "cell_type": "code",
      "source": [
        "print(sentences[100])\n",
        "print(y_idx[100])"
      ],
      "metadata": {
        "colab": {
          "base_uri": "https://localhost:8080/"
        },
        "id": "gYn5a_VNDcAy",
        "outputId": "2b723a67-bdd5-448d-96a7-64b9bf03ff4a"
      },
      "execution_count": 31,
      "outputs": [
        {
          "output_type": "stream",
          "name": "stdout",
          "text": [
            "[('input', 'O'), ('photos', 'O'), ('.', 'O'), ('The', 'O'), ('recursive', 'B-ALGO'), ('method', 'I-ALGO'), ('formalized', 'O'), ('by', 'O'), ('Nijenhuis', 'O'), ('and', 'O'), ('Wilf', 'O'), ('and', 'O'), ('systematized', 'O'), ('by', 'O'), ('Flajolet', 'O'), ('Van', 'O'), ('Cutsem', 'O'), ('and', 'O'), ('Zimmermann', 'O'), ('is', 'O'), ('extended', 'O'), ('here', 'O'), ('to', 'O')]\n",
            "[12, 12, 12, 12, 5, 10, 12, 12, 12, 12, 12, 12, 12, 12, 12, 12, 12, 12, 12, 12, 12, 12, 12]\n"
          ]
        }
      ]
    },
    {
      "cell_type": "code",
      "source": [
        "y = [to_categorical(i, num_classes=n_tags) for i in y]"
      ],
      "metadata": {
        "id": "vQvrBmvvDoYK"
      },
      "execution_count": 32,
      "outputs": []
    },
    {
      "cell_type": "code",
      "source": [
        "X_train, X_test, y_train, y_test = train_test_split(X, y, test_size=0.2, random_state=42)"
      ],
      "metadata": {
        "id": "quCP4O7DDytW"
      },
      "execution_count": 33,
      "outputs": []
    },
    {
      "cell_type": "code",
      "source": [
        "def create_model():\n",
        "  input = Input(shape=(maxlen,))\n",
        "  model = Embedding(input_dim=n_words, output_dim=140, input_length=maxlen)(input)\n",
        "  model = Dropout(0.1)(model)\n",
        "  model = Bidirectional(LSTM(units=100, return_sequences=True, recurrent_dropout=0.1))(model)\n",
        "  out = TimeDistributed(Dense(n_tags, activation=\"softmax\"))(model)  # softmax output layer\n",
        "  return Model(input, out)"
      ],
      "metadata": {
        "id": "HDpPBbq76vJg"
      },
      "execution_count": 34,
      "outputs": []
    },
    {
      "cell_type": "code",
      "source": [
        "model = create_model()"
      ],
      "metadata": {
        "colab": {
          "base_uri": "https://localhost:8080/"
        },
        "id": "gEZS6HRXEOiv",
        "outputId": "8cce0763-7087-425a-be21-81603b0ef3b9"
      },
      "execution_count": 35,
      "outputs": [
        {
          "output_type": "stream",
          "name": "stdout",
          "text": [
            "WARNING:tensorflow:From /tensorflow-1.15.2/python3.7/tensorflow_core/python/ops/resource_variable_ops.py:1630: calling BaseResourceVariable.__init__ (from tensorflow.python.ops.resource_variable_ops) with constraint is deprecated and will be removed in a future version.\n",
            "Instructions for updating:\n",
            "If using Keras pass *_constraint arguments to layers.\n"
          ]
        }
      ]
    },
    {
      "cell_type": "code",
      "source": [
        "adam = keras.optimizers.Adam(lr=0.001)\n",
        "model.compile(optimizer=adam, loss=\"categorical_crossentropy\", \n",
        "              metrics=[keras.metrics.Precision(), keras.metrics.Recall()])"
      ],
      "metadata": {
        "colab": {
          "base_uri": "https://localhost:8080/"
        },
        "id": "XqwEnJVCEk-w",
        "outputId": "946f5cd2-22c4-4943-9c7d-5ea7708442c5"
      },
      "execution_count": 36,
      "outputs": [
        {
          "output_type": "stream",
          "name": "stdout",
          "text": [
            "WARNING:tensorflow:From /tensorflow-1.15.2/python3.7/keras/backend/tensorflow_backend.py:3172: where (from tensorflow.python.ops.array_ops) is deprecated and will be removed in a future version.\n",
            "Instructions for updating:\n",
            "Use tf.where in 2.0, which has the same broadcast rule as np.where\n"
          ]
        }
      ]
    },
    {
      "cell_type": "code",
      "source": [
        "model.summary()"
      ],
      "metadata": {
        "colab": {
          "base_uri": "https://localhost:8080/"
        },
        "id": "cLeIz5QqEnMP",
        "outputId": "c7e82504-f116-4784-8dd5-646f17d651c6"
      },
      "execution_count": 37,
      "outputs": [
        {
          "output_type": "stream",
          "name": "stdout",
          "text": [
            "Model: \"model_1\"\n",
            "_________________________________________________________________\n",
            "Layer (type)                 Output Shape              Param #   \n",
            "=================================================================\n",
            "input_1 (InputLayer)         (None, 73)                0         \n",
            "_________________________________________________________________\n",
            "embedding_1 (Embedding)      (None, 73, 140)           788340    \n",
            "_________________________________________________________________\n",
            "dropout_1 (Dropout)          (None, 73, 140)           0         \n",
            "_________________________________________________________________\n",
            "bidirectional_1 (Bidirection (None, 73, 200)           192800    \n",
            "_________________________________________________________________\n",
            "time_distributed_1 (TimeDist (None, 73, 15)            3015      \n",
            "=================================================================\n",
            "Total params: 984,155\n",
            "Trainable params: 984,155\n",
            "Non-trainable params: 0\n",
            "_________________________________________________________________\n"
          ]
        }
      ]
    },
    {
      "cell_type": "code",
      "source": [
        "model.fit(X_train, np.array(y_train), batch_size=8, epochs=10, validation_split=0.1, verbose=1)"
      ],
      "metadata": {
        "colab": {
          "base_uri": "https://localhost:8080/"
        },
        "id": "HZ1eTKA8E_Ef",
        "outputId": "a7357060-fee4-4630-8b94-dfc213e0ec59"
      },
      "execution_count": 38,
      "outputs": [
        {
          "output_type": "stream",
          "name": "stdout",
          "text": [
            "WARNING:tensorflow:From /tensorflow-1.15.2/python3.7/keras/backend/tensorflow_backend.py:422: The name tf.global_variables is deprecated. Please use tf.compat.v1.global_variables instead.\n",
            "\n",
            "Train on 1000 samples, validate on 112 samples\n",
            "Epoch 1/10\n",
            "1000/1000 [==============================] - 30s 30ms/step - loss: 0.3366 - precision_1: 0.9736 - recall_1: 0.8955 - val_loss: 0.1759 - val_precision_1: 0.9689 - val_recall_1: 0.9689\n",
            "Epoch 2/10\n",
            "1000/1000 [==============================] - 14s 14ms/step - loss: 0.1330 - precision_1: 0.9733 - recall_1: 0.9726 - val_loss: 0.1466 - val_precision_1: 0.9728 - val_recall_1: 0.9676\n",
            "Epoch 3/10\n",
            "1000/1000 [==============================] - 14s 14ms/step - loss: 0.1007 - precision_1: 0.9849 - recall_1: 0.9697 - val_loss: 0.1329 - val_precision_1: 0.9810 - val_recall_1: 0.9659\n",
            "Epoch 4/10\n",
            "1000/1000 [==============================] - 14s 14ms/step - loss: 0.0838 - precision_1: 0.9925 - recall_1: 0.9695 - val_loss: 0.1319 - val_precision_1: 0.9835 - val_recall_1: 0.9653\n",
            "Epoch 5/10\n",
            "1000/1000 [==============================] - 14s 14ms/step - loss: 0.0742 - precision_1: 0.9947 - recall_1: 0.9705 - val_loss: 0.1349 - val_precision_1: 0.9839 - val_recall_1: 0.9654\n",
            "Epoch 6/10\n",
            "1000/1000 [==============================] - 14s 14ms/step - loss: 0.0660 - precision_1: 0.9950 - recall_1: 0.9725 - val_loss: 0.1366 - val_precision_1: 0.9837 - val_recall_1: 0.9678\n",
            "Epoch 7/10\n",
            "1000/1000 [==============================] - 15s 15ms/step - loss: 0.0569 - precision_1: 0.9957 - recall_1: 0.9766 - val_loss: 0.1357 - val_precision_1: 0.9832 - val_recall_1: 0.9670\n",
            "Epoch 8/10\n",
            "1000/1000 [==============================] - 15s 15ms/step - loss: 0.0470 - precision_1: 0.9956 - recall_1: 0.9812 - val_loss: 0.1351 - val_precision_1: 0.9824 - val_recall_1: 0.9689\n",
            "Epoch 9/10\n",
            "1000/1000 [==============================] - 14s 14ms/step - loss: 0.0387 - precision_1: 0.9958 - recall_1: 0.9846 - val_loss: 0.1462 - val_precision_1: 0.9809 - val_recall_1: 0.9698\n",
            "Epoch 10/10\n",
            "1000/1000 [==============================] - 14s 14ms/step - loss: 0.0308 - precision_1: 0.9967 - recall_1: 0.9871 - val_loss: 0.1510 - val_precision_1: 0.9803 - val_recall_1: 0.9702\n"
          ]
        },
        {
          "output_type": "execute_result",
          "data": {
            "text/plain": [
              "<keras.callbacks.callbacks.History at 0x7f7b4d18ce10>"
            ]
          },
          "metadata": {},
          "execution_count": 38
        }
      ]
    },
    {
      "cell_type": "code",
      "source": [
        "p = model.predict(np.array(X_test))  "
      ],
      "metadata": {
        "id": "F4sugg4YFDZd"
      },
      "execution_count": 39,
      "outputs": []
    },
    {
      "cell_type": "code",
      "source": [
        "print(classification_report(np.argmax(y_test, 2).ravel(), np.argmax(p, axis=2).ravel(),\n",
        "                            labels=list(idx2tag.keys()), target_names=list(idx2tag.values())))"
      ],
      "metadata": {
        "colab": {
          "base_uri": "https://localhost:8080/"
        },
        "id": "86jDaDSRGylr",
        "outputId": "4d9ae3d9-f3b0-41a2-c5d1-55fb5ddb89d1"
      },
      "execution_count": 40,
      "outputs": [
        {
          "output_type": "stream",
          "name": "stdout",
          "text": [
            "              precision    recall  f1-score   support\n",
            "\n",
            "      I-STAN       0.00      0.00      0.00        17\n",
            "      B-PLAT       0.42      0.40      0.41        25\n",
            "        B-PL       0.00      0.00      0.00        10\n",
            "       B-API       0.62      0.28      0.38        29\n",
            "     B-FIELD       0.56      0.56      0.56       153\n",
            "      B-ALGO       0.56      0.36      0.44        66\n",
            "      I-FRAM       0.00      0.00      0.00         3\n",
            "        I-PL       0.00      0.00      0.00         2\n",
            "       I-API       0.00      0.00      0.00         9\n",
            "     I-FIELD       0.62      0.32      0.43       124\n",
            "      I-ALGO       0.65      0.38      0.48        69\n",
            "      I-PLAT       0.50      0.06      0.11        16\n",
            "           O       0.98      0.99      0.99     19713\n",
            "      B-FRAM       0.30      0.25      0.27        12\n",
            "      B-STAN       0.67      0.26      0.38        46\n",
            "\n",
            "    accuracy                           0.98     20294\n",
            "   macro avg       0.39      0.26      0.30     20294\n",
            "weighted avg       0.97      0.98      0.97     20294\n",
            "\n"
          ]
        },
        {
          "output_type": "stream",
          "name": "stderr",
          "text": [
            "/usr/local/lib/python3.7/dist-packages/sklearn/metrics/_classification.py:1221: UndefinedMetricWarning: Precision and F-score are ill-defined and being set to 0.0 in labels with no predicted samples. Use `zero_division` parameter to control this behavior.\n",
            "  _warn_prf(average, modifier, msg_start, len(result))\n"
          ]
        }
      ]
    },
    {
      "cell_type": "code",
      "source": [
        "labels = list(tags)\n",
        "labels.remove('O')\n",
        "labels"
      ],
      "metadata": {
        "colab": {
          "base_uri": "https://localhost:8080/"
        },
        "id": "df8E1uwo-G9z",
        "outputId": "df1a019f-6606-46d3-c32d-f24ea8314a34"
      },
      "execution_count": 41,
      "outputs": [
        {
          "output_type": "execute_result",
          "data": {
            "text/plain": [
              "['I-STAN',\n",
              " 'B-PLAT',\n",
              " 'B-PL',\n",
              " 'B-API',\n",
              " 'B-FIELD',\n",
              " 'B-ALGO',\n",
              " 'I-FRAM',\n",
              " 'I-PL',\n",
              " 'I-API',\n",
              " 'I-FIELD',\n",
              " 'I-ALGO',\n",
              " 'I-PLAT',\n",
              " 'B-FRAM',\n",
              " 'B-STAN']"
            ]
          },
          "metadata": {},
          "execution_count": 41
        }
      ]
    },
    {
      "cell_type": "code",
      "source": [
        "y_pred = model.predict(np.array(X_test))\n",
        "f1_score(np.argmax(y_test, 2).ravel(), np.argmax(p, axis=2).ravel(),\n",
        "                      average='weighted', labels=[tag2idx[i] for i in labels])"
      ],
      "metadata": {
        "colab": {
          "base_uri": "https://localhost:8080/"
        },
        "id": "UBlHbBgSJiO8",
        "outputId": "1af3aa7d-b696-49b0-92dd-982cd32599fd"
      },
      "execution_count": 42,
      "outputs": [
        {
          "output_type": "execute_result",
          "data": {
            "text/plain": [
              "0.4204816085262177"
            ]
          },
          "metadata": {},
          "execution_count": 42
        }
      ]
    },
    {
      "cell_type": "code",
      "source": [
        "y_pred = model.predict(np.array(X_test))\n",
        "f1_score(np.argmax(y_test, 2).ravel(), np.argmax(p, axis=2).ravel(),\n",
        "                      average='weighted')"
      ],
      "metadata": {
        "colab": {
          "base_uri": "https://localhost:8080/"
        },
        "id": "Gt3jgQF2SUP8",
        "outputId": "2a65e557-fc18-45c9-d94c-b2cafdcdfe4e"
      },
      "execution_count": 43,
      "outputs": [
        {
          "output_type": "execute_result",
          "data": {
            "text/plain": [
              "0.9733128965967559"
            ]
          },
          "metadata": {},
          "execution_count": 43
        }
      ]
    },
    {
      "cell_type": "markdown",
      "source": [
        "### LSTM with class weights"
      ],
      "metadata": {
        "id": "MnfWUgc4vPZc"
      }
    },
    {
      "cell_type": "markdown",
      "source": [
        "Целевые категории несбалансированы, разница в количестве объектов разных категорий слишком большая, поэтому попробуем добавлять веса"
      ],
      "metadata": {
        "id": "AsOi1yd7upOW"
      }
    },
    {
      "cell_type": "code",
      "source": [
        "data.Tag.value_counts()"
      ],
      "metadata": {
        "colab": {
          "base_uri": "https://localhost:8080/"
        },
        "id": "pEaXJOyP-AbP",
        "outputId": "72e09454-6c15-41f4-de95-5214d5c71076"
      },
      "execution_count": 44,
      "outputs": [
        {
          "output_type": "execute_result",
          "data": {
            "text/plain": [
              "O          30556\n",
              "B-FIELD      805\n",
              "I-FIELD      486\n",
              "I-ALGO       355\n",
              "B-ALGO       302\n",
              "B-STAN       198\n",
              "B-PLAT       156\n",
              "B-API        139\n",
              "B-FRAM        96\n",
              "I-PLAT        82\n",
              "B-PL          56\n",
              "I-STAN        50\n",
              "I-API         43\n",
              "I-FRAM        35\n",
              "I-PL          19\n",
              "Name: Tag, dtype: int64"
            ]
          },
          "metadata": {},
          "execution_count": 44
        }
      ]
    },
    {
      "cell_type": "code",
      "source": [
        "weights = (1 / data.Tag.value_counts()) * (data.shape[0] / 2.0)\n",
        "weights"
      ],
      "metadata": {
        "colab": {
          "base_uri": "https://localhost:8080/"
        },
        "id": "OU1Qn9_3_dyW",
        "outputId": "7bec4de8-da80-4d7c-935d-f89f467defe0"
      },
      "execution_count": 82,
      "outputs": [
        {
          "output_type": "execute_result",
          "data": {
            "text/plain": [
              "O            0.546178\n",
              "B-FIELD     20.731677\n",
              "I-FIELD     34.339506\n",
              "I-ALGO      47.011268\n",
              "B-ALGO      55.261589\n",
              "B-STAN      84.287879\n",
              "B-PLAT     106.980769\n",
              "B-API      120.064748\n",
              "B-FRAM     173.843750\n",
              "I-PLAT     203.524390\n",
              "B-PL       298.017857\n",
              "I-STAN     333.780000\n",
              "I-API      388.116279\n",
              "I-FRAM     476.828571\n",
              "I-PL       878.368421\n",
              "Name: Tag, dtype: float64"
            ]
          },
          "metadata": {},
          "execution_count": 82
        }
      ]
    },
    {
      "cell_type": "code",
      "source": [
        "class_weight = {tag2idx[k]: v for k, v in weights.items()}\n",
        "class_weight"
      ],
      "metadata": {
        "colab": {
          "base_uri": "https://localhost:8080/"
        },
        "id": "ezNhpmQZ_ze4",
        "outputId": "7c9a746f-7475-498c-a6d6-c22f0aab6ff4"
      },
      "execution_count": 83,
      "outputs": [
        {
          "output_type": "execute_result",
          "data": {
            "text/plain": [
              "{0: 333.78000000000003,\n",
              " 1: 106.98076923076923,\n",
              " 2: 298.0178571428571,\n",
              " 3: 120.06474820143886,\n",
              " 4: 20.73167701863354,\n",
              " 5: 55.26158940397351,\n",
              " 6: 476.8285714285714,\n",
              " 7: 878.3684210526316,\n",
              " 8: 388.1162790697674,\n",
              " 9: 34.339506172839506,\n",
              " 10: 47.011267605633805,\n",
              " 11: 203.52439024390245,\n",
              " 12: 0.5461775101453069,\n",
              " 13: 173.84375,\n",
              " 14: 84.2878787878788}"
            ]
          },
          "metadata": {},
          "execution_count": 83
        }
      ]
    },
    {
      "cell_type": "code",
      "source": [
        "np.array(y_train).shape"
      ],
      "metadata": {
        "colab": {
          "base_uri": "https://localhost:8080/"
        },
        "id": "Yw4iTHAGDk2a",
        "outputId": "8bc5873c-747f-4bcd-ebbf-8441abb62b54"
      },
      "execution_count": 84,
      "outputs": [
        {
          "output_type": "execute_result",
          "data": {
            "text/plain": [
              "(1112, 73, 15)"
            ]
          },
          "metadata": {},
          "execution_count": 84
        }
      ]
    },
    {
      "cell_type": "code",
      "source": [
        "tmp = np.argmax(np.array(y_train), axis=2)\n",
        "tmp.shape"
      ],
      "metadata": {
        "colab": {
          "base_uri": "https://localhost:8080/"
        },
        "id": "HbziLU9HENSX",
        "outputId": "fff507c9-e8d3-44f7-d27d-6b77e8c00cc4"
      },
      "execution_count": 85,
      "outputs": [
        {
          "output_type": "execute_result",
          "data": {
            "text/plain": [
              "(1112, 73)"
            ]
          },
          "metadata": {},
          "execution_count": 85
        }
      ]
    },
    {
      "cell_type": "code",
      "source": [
        "sample_weights = np.array([[class_weight[k] for k in tmp[i]] for i in range(tmp.shape[0])])\n",
        "sample_weights.shape"
      ],
      "metadata": {
        "colab": {
          "base_uri": "https://localhost:8080/"
        },
        "id": "hsSvmbvXEadu",
        "outputId": "8f777cd3-8066-44c9-c512-ade0ef4e20f9"
      },
      "execution_count": 86,
      "outputs": [
        {
          "output_type": "execute_result",
          "data": {
            "text/plain": [
              "(1112, 73)"
            ]
          },
          "metadata": {},
          "execution_count": 86
        }
      ]
    },
    {
      "cell_type": "code",
      "source": [
        "weighted_model = create_model()"
      ],
      "metadata": {
        "id": "IarJCpCVAuoM"
      },
      "execution_count": 87,
      "outputs": []
    },
    {
      "cell_type": "code",
      "source": [
        "adam = keras.optimizers.Adam(lr=0.001)\n",
        "weighted_model.compile(optimizer=adam, loss=\"categorical_crossentropy\", \n",
        "                       metrics=[keras.metrics.Precision(), keras.metrics.Recall()],\n",
        "                       sample_weight_mode=\"temporal\" )"
      ],
      "metadata": {
        "id": "pGxkWPOQBCZL"
      },
      "execution_count": 88,
      "outputs": []
    },
    {
      "cell_type": "code",
      "source": [
        "weighted_model.fit(X_train, np.array(y_train), batch_size=8, epochs=10, \n",
        "                   validation_split=0.1, verbose=1, sample_weight=sample_weights)"
      ],
      "metadata": {
        "colab": {
          "base_uri": "https://localhost:8080/"
        },
        "id": "dpwI6LnyBFcW",
        "outputId": "3eddbf92-3b9a-49f1-b37b-1a16971d1c3b"
      },
      "execution_count": 89,
      "outputs": [
        {
          "output_type": "stream",
          "name": "stdout",
          "text": [
            "Train on 1000 samples, validate on 112 samples\n",
            "Epoch 1/10\n",
            "1000/1000 [==============================] - 19s 19ms/step - loss: 6.7138 - precision_5: 0.9999 - recall_5: 0.5550 - val_loss: 8.1951 - val_precision_5: 1.0000 - val_recall_5: 0.5936\n",
            "Epoch 2/10\n",
            "1000/1000 [==============================] - 26s 26ms/step - loss: 6.2370 - precision_5: 0.9998 - recall_5: 0.6715 - val_loss: 7.8473 - val_precision_5: 1.0000 - val_recall_5: 0.6193\n",
            "Epoch 3/10\n",
            "1000/1000 [==============================] - 25s 25ms/step - loss: 4.6802 - precision_5: 0.9983 - recall_5: 0.7135 - val_loss: 7.1066 - val_precision_5: 0.9951 - val_recall_5: 0.6523\n",
            "Epoch 4/10\n",
            "1000/1000 [==============================] - 18s 18ms/step - loss: 2.4901 - precision_5: 0.9803 - recall_5: 0.7918 - val_loss: 6.6702 - val_precision_5: 0.9829 - val_recall_5: 0.7509\n",
            "Epoch 5/10\n",
            "1000/1000 [==============================] - 14s 14ms/step - loss: 1.3648 - precision_5: 0.9642 - recall_5: 0.8615 - val_loss: 7.0499 - val_precision_5: 0.9743 - val_recall_5: 0.8302\n",
            "Epoch 6/10\n",
            "1000/1000 [==============================] - 14s 14ms/step - loss: 0.8281 - precision_5: 0.9600 - recall_5: 0.9031 - val_loss: 8.0650 - val_precision_5: 0.9685 - val_recall_5: 0.8836\n",
            "Epoch 7/10\n",
            "1000/1000 [==============================] - 14s 14ms/step - loss: 0.5471 - precision_5: 0.9656 - recall_5: 0.9313 - val_loss: 9.6919 - val_precision_5: 0.9675 - val_recall_5: 0.9289\n",
            "Epoch 8/10\n",
            "1000/1000 [==============================] - 14s 14ms/step - loss: 0.4524 - precision_5: 0.9700 - recall_5: 0.9453 - val_loss: 9.6548 - val_precision_5: 0.9683 - val_recall_5: 0.9368\n",
            "Epoch 9/10\n",
            "1000/1000 [==============================] - 14s 14ms/step - loss: 0.2747 - precision_5: 0.9743 - recall_5: 0.9590 - val_loss: 10.4242 - val_precision_5: 0.9679 - val_recall_5: 0.9477\n",
            "Epoch 10/10\n",
            "1000/1000 [==============================] - 15s 15ms/step - loss: 0.1846 - precision_5: 0.9766 - recall_5: 0.9662 - val_loss: 9.4698 - val_precision_5: 0.9679 - val_recall_5: 0.9481\n"
          ]
        },
        {
          "output_type": "execute_result",
          "data": {
            "text/plain": [
              "<keras.callbacks.callbacks.History at 0x7f7b455ddf50>"
            ]
          },
          "metadata": {},
          "execution_count": 89
        }
      ]
    },
    {
      "cell_type": "code",
      "source": [
        "p = weighted_model.predict(np.array(X_test))"
      ],
      "metadata": {
        "id": "578CmP_xBOSy"
      },
      "execution_count": 90,
      "outputs": []
    },
    {
      "cell_type": "code",
      "source": [
        "print(classification_report(np.argmax(y_test, 2).ravel(), np.argmax(p, axis=2).ravel(),\n",
        "                            labels=list(idx2tag.keys()), target_names=list(idx2tag.values())))"
      ],
      "metadata": {
        "colab": {
          "base_uri": "https://localhost:8080/"
        },
        "id": "ZZWWBHPbGbS7",
        "outputId": "29cba9d7-ebe5-4d40-82ae-e673048970b3"
      },
      "execution_count": 91,
      "outputs": [
        {
          "output_type": "stream",
          "name": "stdout",
          "text": [
            "              precision    recall  f1-score   support\n",
            "\n",
            "      I-STAN       0.00      0.00      0.00        17\n",
            "      B-PLAT       0.48      0.64      0.55        25\n",
            "        B-PL       0.20      0.10      0.13        10\n",
            "       B-API       0.21      0.62      0.32        29\n",
            "     B-FIELD       0.38      0.67      0.48       153\n",
            "      B-ALGO       0.44      0.59      0.51        66\n",
            "      I-FRAM       0.00      0.00      0.00         3\n",
            "        I-PL       0.00      0.00      0.00         2\n",
            "       I-API       0.08      0.11      0.09         9\n",
            "     I-FIELD       0.37      0.48      0.42       124\n",
            "      I-ALGO       0.51      0.49      0.50        69\n",
            "      I-PLAT       0.38      0.38      0.38        16\n",
            "           O       0.99      0.98      0.98     19713\n",
            "      B-FRAM       0.42      0.67      0.52        12\n",
            "      B-STAN       0.36      0.46      0.40        46\n",
            "\n",
            "    accuracy                           0.96     20294\n",
            "   macro avg       0.32      0.41      0.35     20294\n",
            "weighted avg       0.97      0.96      0.97     20294\n",
            "\n"
          ]
        }
      ]
    },
    {
      "cell_type": "code",
      "source": [
        "y_pred = weighted_model.predict(np.array(X_test))\n",
        "f1_score(np.argmax(y_test, 2).ravel(), np.argmax(p, axis=2).ravel(),\n",
        "                      average='weighted', labels=[tag2idx[i] for i in labels])"
      ],
      "metadata": {
        "colab": {
          "base_uri": "https://localhost:8080/"
        },
        "id": "U1Gw-tYMGbUv",
        "outputId": "b46d90dd-d930-4736-caa3-48f871d7d529"
      },
      "execution_count": 92,
      "outputs": [
        {
          "output_type": "execute_result",
          "data": {
            "text/plain": [
              "0.42817179580777187"
            ]
          },
          "metadata": {},
          "execution_count": 92
        }
      ]
    },
    {
      "cell_type": "markdown",
      "source": [
        "Можно заметить, что метрики по некоторым категориям выросли. F-score в целом не изменился, потому что по другим категориям метрики снизились, но нужно идти на компромисс, если хотим захватить больше классов"
      ],
      "metadata": {
        "id": "A6yP9SmIf6sF"
      }
    },
    {
      "cell_type": "markdown",
      "source": [
        "В данной задаче классические алгоритмы получились эффективнее, чем нейронки, т.к. было слишком мало данных для обучения. Но и классического алгоритма оказалось недостаточно из-за специфики данных :)"
      ],
      "metadata": {
        "id": "hHChlxkRlHmj"
      }
    }
  ]
}